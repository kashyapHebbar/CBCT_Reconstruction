{
  "nbformat": 4,
  "nbformat_minor": 0,
  "metadata": {
    "colab": {
      "provenance": [],
      "authorship_tag": "ABX9TyPK9eZxPti+XAqWgGGT8kNy",
      "include_colab_link": true
    },
    "kernelspec": {
      "name": "python3",
      "display_name": "Python 3"
    },
    "language_info": {
      "name": "python"
    }
  },
  "cells": [
    {
      "cell_type": "markdown",
      "metadata": {
        "id": "view-in-github",
        "colab_type": "text"
      },
      "source": [
        "<a href=\"https://colab.research.google.com/github/kashyapHebbar/CBCT_Reconstruction/blob/main/SSIM_SNR.ipynb\" target=\"_parent\"><img src=\"https://colab.research.google.com/assets/colab-badge.svg\" alt=\"Open In Colab\"/></a>"
      ]
    },
    {
      "cell_type": "code",
      "source": [
        "pip install opencv-python\n"
      ],
      "metadata": {
        "colab": {
          "base_uri": "https://localhost:8080/"
        },
        "id": "3iOF9--eySKH",
        "outputId": "97c87b99-d1e2-4d28-91bb-f3d50dbae380"
      },
      "execution_count": null,
      "outputs": [
        {
          "output_type": "stream",
          "name": "stdout",
          "text": [
            "Requirement already satisfied: opencv-python in /usr/local/lib/python3.10/dist-packages (4.8.0.76)\n",
            "Requirement already satisfied: numpy>=1.21.2 in /usr/local/lib/python3.10/dist-packages (from opencv-python) (1.23.5)\n"
          ]
        }
      ]
    },
    {
      "cell_type": "code",
      "execution_count": null,
      "metadata": {
        "colab": {
          "base_uri": "https://localhost:8080/"
        },
        "id": "-MeeudN9yRVP",
        "outputId": "628b14ce-b1c7-4eb9-c30a-22f5ceb58724"
      },
      "outputs": [
        {
          "output_type": "stream",
          "name": "stdout",
          "text": [
            "SSIM: 0.3932281680294686\n",
            "sSNR: 8.327417794276908\n"
          ]
        }
      ],
      "source": [
        "from skimage import img_as_float\n",
        "from skimage.metrics import structural_similarity as ssim\n",
        "import numpy as np\n",
        "import cv2\n",
        "\n",
        "# Define the paths for your images\n",
        "img1_path = \"/content/Screenshot 2023-09-01 at 17.10.34.png\"  # Original image\n",
        "img2_path = \"/content/CBCT.png\"  # Corrected image\n",
        "\n",
        "# Read the images from their paths\n",
        "img1 = cv2.imread(img1_path, cv2.IMREAD_GRAYSCALE)\n",
        "img2 = cv2.imread(img2_path, cv2.IMREAD_GRAYSCALE)\n",
        "\n",
        "# Crop both images to match the dimensions of the smaller image\n",
        "min_width = min(img1.shape[1], img2.shape[1])\n",
        "min_height = min(img1.shape[0], img2.shape[0])\n",
        "img1_cropped = img1[:min_height, :min_width]\n",
        "img2_cropped = img2[:min_height, :min_width]\n",
        "\n",
        "# Convert to float for better accuracy\n",
        "img1_float = img_as_float(img1_cropped)\n",
        "img2_float = img_as_float(img2_cropped)\n",
        "\n",
        "# Compute SSIM\n",
        "ssim_value = ssim(img1_float, img2_float, data_range=img2_float.max() - img2_float.min())\n",
        "print(f\"SSIM: {ssim_value}\")\n",
        "\n",
        "# Compute sSNR\n",
        "signal = np.array(img1_float, dtype=np.float64)\n",
        "noise = np.array(img2_float, dtype=np.float64) - signal\n",
        "sSNR = 10 * np.log10(np.mean(signal ** 2) / np.mean(noise ** 2))\n",
        "print(f\"sSNR: {sSNR}\")\n"
      ]
    },
    {
      "cell_type": "code",
      "source": [
        "import cv2\n",
        "\n",
        "# Read the images\n",
        "img1 = cv2.imread('/content/Real.27.34.png', cv2.IMREAD_GRAYSCALE)  # or cv2.IMREAD_COLOR for color\n",
        "img2 = cv2.imread('/content/fake.27.24.png', cv2.IMREAD_GRAYSCALE)  # or cv2.IMREAD_COLOR for color\n",
        "\n",
        "# Get dimensions\n",
        "height1, width1 = img1.shape[:2]\n",
        "height2, width2 = img2.shape[:2]\n",
        "\n",
        "print(f\"Dimensions of img1: Width = {width1}, Height = {height1}\")\n",
        "print(f\"Dimensions of img2: Width = {width2}, Height = {height2}\")\n"
      ],
      "metadata": {
        "colab": {
          "base_uri": "https://localhost:8080/"
        },
        "id": "WhtVoDKWz_3I",
        "outputId": "9a27f047-e57f-4e68-c685-338a7af40673"
      },
      "execution_count": null,
      "outputs": [
        {
          "output_type": "stream",
          "name": "stdout",
          "text": [
            "Dimensions of img1: Width = 490, Height = 486\n",
            "Dimensions of img2: Width = 486, Height = 482\n"
          ]
        }
      ]
    },
    {
      "cell_type": "code",
      "source": [
        "from skimage import img_as_float\n",
        "from skimage.metrics import structural_similarity as ssim\n",
        "import numpy as np\n",
        "import cv2\n",
        "\n",
        "# Define the paths for your images\n",
        "real_CT_path = \"/content/RealCT-exp1.png\"\n",
        "real_CBCT_path = \"/content/RealCBCTexp1.png\"\n",
        "generated_CBCT_path = \"/content/Re-CBCTexp11.png\"\n",
        "\n",
        "# Read the images from their paths\n",
        "real_CT = cv2.imread(real_CT_path, cv2.IMREAD_GRAYSCALE)\n",
        "real_CBCT = cv2.imread(real_CBCT_path, cv2.IMREAD_GRAYSCALE)\n",
        "generated_CBCT = cv2.imread(generated_CBCT_path, cv2.IMREAD_GRAYSCALE)\n",
        "\n",
        "# Crop images to match the dimensions of the smallest image\n",
        "min_width = min(real_CT.shape[1], real_CBCT.shape[1], generated_CBCT.shape[1])\n",
        "min_height = min(real_CT.shape[0], real_CBCT.shape[0], generated_CBCT.shape[0])\n",
        "\n",
        "real_CT_cropped = real_CT[:min_height, :min_width]\n",
        "real_CBCT_cropped = real_CBCT[:min_height, :min_width]\n",
        "generated_CBCT_cropped = generated_CBCT[:min_height, :min_width]\n",
        "\n",
        "# Convert to float for better accuracy\n",
        "real_CT_float = img_as_float(real_CT_cropped)\n",
        "real_CBCT_float = img_as_float(real_CBCT_cropped)\n",
        "generated_CBCT_float = img_as_float(generated_CBCT_cropped)\n",
        "\n",
        "# Compute SSIM between real CT and real CBCT\n",
        "ssim_value1 = ssim(real_CT_float, real_CBCT_float, data_range=real_CBCT_float.max() - real_CBCT_float.min())\n",
        "print(f\"SSIM between real CT and real CBCT: {ssim_value1}\")\n",
        "\n",
        "# Compute sSNR between real CT and real CBCT\n",
        "signal1 = np.array(real_CT_float, dtype=np.float64)\n",
        "noise1 = np.array(real_CBCT_float, dtype=np.float64) - signal1\n",
        "sSNR1 = 10 * np.log10(np.mean(signal1 ** 2) / np.mean(noise1 ** 2))\n",
        "print(f\"sSNR between real CT and real CBCT: {sSNR1}\")\n",
        "\n",
        "# Compute SSIM between generated CT and real CBCT\n",
        "ssim_value2 = ssim(generated_CBCT_float, real_CBCT_float, data_range=real_CBCT_float.max() - real_CBCT_float.min())\n",
        "print(f\"SSIM between generated CT and real CBCT: {ssim_value2}\")\n",
        "\n",
        "# Compute sSNR between generated CT and real CBCT\n",
        "signal2 = np.array(generated_CBCT_float, dtype=np.float64)\n",
        "noise2 = np.array(real_CBCT_float, dtype=np.float64) - signal2\n",
        "sSNR2 = 10 * np.log10(np.mean(signal2 ** 2) / np.mean(noise2 ** 2))\n",
        "print(f\"sSNR between generated CT and real CBCT: {sSNR2}\")\n"
      ],
      "metadata": {
        "colab": {
          "base_uri": "https://localhost:8080/"
        },
        "id": "oGPUk_m0FG6O",
        "outputId": "bd4627a6-403a-434d-9381-a17b1ffb72ed"
      },
      "execution_count": null,
      "outputs": [
        {
          "output_type": "stream",
          "name": "stdout",
          "text": [
            "SSIM between real CT and real CBCT: 0.5485164492640331\n",
            "sSNR between real CT and real CBCT: 7.3527142863085535\n",
            "SSIM between generated CT and real CBCT: 0.5679149030756305\n",
            "sSNR between generated CT and real CBCT: 7.434344272959004\n"
          ]
        }
      ]
    },
    {
      "cell_type": "code",
      "source": [
        "from skimage import img_as_float\n",
        "from skimage.metrics import structural_similarity as ssim\n",
        "import numpy as np\n",
        "import cv2\n",
        "\n",
        "# Define the paths for your images\n",
        "real_CT_path = \"/content/RealCT-exp1.png\"\n",
        "FDK_CBCT_path = \"/content/RealCBCTexp1.png\"\n",
        "generated_CBCT_path = \"/content/Re-CBCTexp11.png\"\n",
        "\n",
        "# Read the images from their paths\n",
        "real_CT = cv2.imread(real_CT_path, cv2.IMREAD_GRAYSCALE)\n",
        "FDK_CBCT = cv2.imread(FDK_CBCT_path, cv2.IMREAD_GRAYSCALE)\n",
        "generated_CBCT = cv2.imread(generated_CBCT_path, cv2.IMREAD_GRAYSCALE)\n",
        "\n",
        "# Crop images to match the dimensions of the smallest image\n",
        "min_width = min(real_CT.shape[1], FDK_CBCT.shape[1], generated_CBCT.shape[1])\n",
        "min_height = min(real_CT.shape[0], FDK_CBCT.shape[0], generated_CBCT.shape[0])\n",
        "\n",
        "real_CT_cropped = real_CT[:min_height, :min_width]\n",
        "FDK_CBCT_cropped = FDK_CBCT[:min_height, :min_width]\n",
        "generated_CBCT_cropped = generated_CBCT[:min_height, :min_width]\n",
        "\n",
        "# Convert to float for better accuracy\n",
        "real_CT_float = img_as_float(real_CT_cropped)\n",
        "FDK_CBCT_float = img_as_float(FDK_CBCT_cropped)\n",
        "generated_CBCT_float = img_as_float(generated_CBCT_cropped)\n",
        "\n",
        "# Compute SSIM between real CT and FDK-generated CBCT\n",
        "ssim_value1 = ssim(real_CT_float, FDK_CBCT_float, data_range=FDK_CBCT_float.max() - FDK_CBCT_float.min())\n",
        "print(f\"SSIM between real CT and FDK-generated CBCT: {ssim_value1}\")\n",
        "\n",
        "# Compute sSNR between real CT and FDK-generated CBCT\n",
        "signal1 = np.array(real_CT_float, dtype=np.float64)\n",
        "noise1 = np.array(FDK_CBCT_float, dtype=np.float64) - signal1\n",
        "sSNR1 = 10 * np.log10(np.mean(signal1 ** 2) / np.mean(noise1 ** 2))\n",
        "print(f\"sSNR between real CT and FDK-generated CBCT: {sSNR1}\")\n",
        "\n",
        "# Compute SSIM between real CT and deep learning-generated CBCT\n",
        "ssim_value2 = ssim(real_CT_float, generated_CBCT_float, data_range=generated_CBCT_float.max() - generated_CBCT_float.min())\n",
        "print(f\"SSIM between real CT and deep learning-generated CBCT: {ssim_value2}\")\n",
        "\n",
        "# Compute sSNR between real CT and deep learning-generated CBCT\n",
        "signal2 = np.array(real_CT_float, dtype=np.float64)\n",
        "noise2 = np.array(generated_CBCT_float, dtype=np.float64) - signal2\n",
        "sSNR2 = 10 * np.log10(np.mean(signal2 ** 2) / np.mean(noise2 ** 2))\n",
        "print(f\"sSNR between real CT and deep learning-generated CBCT: {sSNR2}\")\n"
      ],
      "metadata": {
        "colab": {
          "base_uri": "https://localhost:8080/"
        },
        "id": "cTguTEskGzJS",
        "outputId": "8227ed2f-6cd2-4c85-e08a-cf2f18cbec48"
      },
      "execution_count": null,
      "outputs": [
        {
          "output_type": "stream",
          "name": "stdout",
          "text": [
            "SSIM between real CT and FDK-generated CBCT: 0.5485164492640331\n",
            "sSNR between real CT and FDK-generated CBCT: 7.3527142863085535\n",
            "SSIM between real CT and deep learning-generated CBCT: 0.44793603768863577\n",
            "sSNR between real CT and deep learning-generated CBCT: 2.5964658227304858\n"
          ]
        }
      ]
    },
    {
      "cell_type": "code",
      "source": [
        "from skimage import img_as_float\n",
        "from skimage.metrics import structural_similarity as ssim\n",
        "import numpy as np\n",
        "import cv2\n",
        "\n",
        "# Define the paths for your images\n",
        "real_CT_path = \"/content/RealCTex1.png\"\n",
        "FDK_CBCT_path = \"/content/FDCBCT.png\"\n",
        "generated_CBCT_path = \"/content/DCBCT.png\"\n",
        "\n",
        "# Read the images from their paths\n",
        "real_CT = cv2.imread(real_CT_path, cv2.IMREAD_GRAYSCALE)\n",
        "FDK_CBCT = cv2.imread(FDK_CBCT_path, cv2.IMREAD_GRAYSCALE)\n",
        "generated_CBCT = cv2.imread(generated_CBCT_path, cv2.IMREAD_GRAYSCALE)\n",
        "\n",
        "# Crop images to match the dimensions of the smallest image\n",
        "min_width = min(real_CT.shape[1], FDK_CBCT.shape[1], generated_CBCT.shape[1])\n",
        "min_height = min(real_CT.shape[0], FDK_CBCT.shape[0], generated_CBCT.shape[0])\n",
        "\n",
        "real_CT_cropped = real_CT[:min_height, :min_width]\n",
        "FDK_CBCT_cropped = FDK_CBCT[:min_height, :min_width]\n",
        "generated_CBCT_cropped = generated_CBCT[:min_height, :min_width]\n",
        "\n",
        "# Convert to float for better accuracy\n",
        "real_CT_float = img_as_float(real_CT_cropped)\n",
        "FDK_CBCT_float = img_as_float(FDK_CBCT_cropped)\n",
        "generated_CBCT_float = img_as_float(generated_CBCT_cropped)\n",
        "\n",
        "# Compute SSIM between real CT and FDK-generated CBCT\n",
        "ssim_value1 = ssim(real_CT_float, FDK_CBCT_float, data_range=FDK_CBCT_float.max() - FDK_CBCT_float.min())\n",
        "print(f\"SSIM between real CT and FDK-generated CBCT: {ssim_value1}\")\n",
        "\n",
        "# Compute sSNR between real CT and FDK-generated CBCT\n",
        "signal1 = np.array(real_CT_float, dtype=np.float64)\n",
        "noise1 = np.array(FDK_CBCT_float, dtype=np.float64) - signal1\n",
        "sSNR1 = 10 * np.log10(np.mean(signal1 ** 2) / np.mean(noise1 ** 2))\n",
        "print(f\"sSNR between real CT and FDK-generated CBCT: {sSNR1}\")\n",
        "\n",
        "# Compute SSIM between real CT and deep learning-generated CBCT\n",
        "ssim_value2 = ssim(real_CT_float, generated_CBCT_float, data_range=generated_CBCT_float.max() - generated_CBCT_float.min())\n",
        "print(f\"SSIM between real CT and deep learning-generated CBCT: {ssim_value2}\")\n",
        "\n",
        "# Compute sSNR between real CT and deep learning-generated CBCT\n",
        "signal2 = np.array(real_CT_float, dtype=np.float64)\n",
        "noise2 = np.array(generated_CBCT_float, dtype=np.float64) - signal2\n",
        "sSNR2 = 10 * np.log10(np.mean(signal2 ** 2) / np.mean(noise2 ** 2))\n",
        "print(f\"sSNR between real CT and deep learning-generated CBCT: {sSNR2}\")\n"
      ],
      "metadata": {
        "colab": {
          "base_uri": "https://localhost:8080/"
        },
        "id": "t8yLBazOHB_0",
        "outputId": "3099e2dd-8704-4adc-8e26-9f718cbc059f"
      },
      "execution_count": null,
      "outputs": [
        {
          "output_type": "stream",
          "name": "stdout",
          "text": [
            "SSIM between real CT and FDK-generated CBCT: 0.5088899645673449\n",
            "sSNR between real CT and FDK-generated CBCT: 6.977738108626598\n",
            "SSIM between real CT and deep learning-generated CBCT: 0.32415023657397296\n",
            "sSNR between real CT and deep learning-generated CBCT: 1.882781578931863\n"
          ]
        }
      ]
    },
    {
      "cell_type": "code",
      "source": [
        "pip install PyPDF2"
      ],
      "metadata": {
        "colab": {
          "base_uri": "https://localhost:8080/"
        },
        "id": "zHtCgEwXedWj",
        "outputId": "02484f00-fc81-4089-eaf2-746689086e31"
      },
      "execution_count": null,
      "outputs": [
        {
          "output_type": "stream",
          "name": "stdout",
          "text": [
            "Collecting PyPDF2\n",
            "  Downloading pypdf2-3.0.1-py3-none-any.whl (232 kB)\n",
            "\u001b[2K     \u001b[90m━━━━━━━━━━━━━━━━━━━━━━━━━━━━━━━━━━━━━━━\u001b[0m \u001b[32m232.6/232.6 kB\u001b[0m \u001b[31m3.5 MB/s\u001b[0m eta \u001b[36m0:00:00\u001b[0m\n",
            "\u001b[?25hInstalling collected packages: PyPDF2\n",
            "Successfully installed PyPDF2-3.0.1\n"
          ]
        }
      ]
    },
    {
      "cell_type": "code",
      "source": [
        "import PyPDF2\n",
        "\n",
        "with open('/content/Dissertation_Template2023.pdf', 'rb') as f:\n",
        "    pdf_reader = PyPDF2.PdfFileReader(f)\n",
        "    num_pages = pdf_reader.numPages\n",
        "    text = \"\"\n",
        "    for page_num in range(num_pages):\n",
        "        page = pdf_reader.getPage(page_num)\n",
        "        text += page.extract_text()\n",
        "    words = text.split()\n",
        "    num_words = len(words)\n",
        "\n",
        "print(f'Number of pages: {num_pages}')\n",
        "print(f'Number of words: {num_words}')\n"
      ],
      "metadata": {
        "colab": {
          "base_uri": "https://localhost:8080/",
          "height": 391
        },
        "id": "tvC3kuZieVyR",
        "outputId": "a7f838ee-b720-46d5-b8fe-754498f514ff"
      },
      "execution_count": null,
      "outputs": [
        {
          "output_type": "error",
          "ename": "DeprecationError",
          "evalue": "ignored",
          "traceback": [
            "\u001b[0;31m---------------------------------------------------------------------------\u001b[0m",
            "\u001b[0;31mDeprecationError\u001b[0m                          Traceback (most recent call last)",
            "\u001b[0;32m<ipython-input-23-ec5d8cc223b8>\u001b[0m in \u001b[0;36m<cell line: 3>\u001b[0;34m()\u001b[0m\n\u001b[1;32m      2\u001b[0m \u001b[0;34m\u001b[0m\u001b[0m\n\u001b[1;32m      3\u001b[0m \u001b[0;32mwith\u001b[0m \u001b[0mopen\u001b[0m\u001b[0;34m(\u001b[0m\u001b[0;34m'/content/Dissertation_Template2023.pdf'\u001b[0m\u001b[0;34m,\u001b[0m \u001b[0;34m'rb'\u001b[0m\u001b[0;34m)\u001b[0m \u001b[0;32mas\u001b[0m \u001b[0mf\u001b[0m\u001b[0;34m:\u001b[0m\u001b[0;34m\u001b[0m\u001b[0;34m\u001b[0m\u001b[0m\n\u001b[0;32m----> 4\u001b[0;31m     \u001b[0mpdf_reader\u001b[0m \u001b[0;34m=\u001b[0m \u001b[0mPyPDF2\u001b[0m\u001b[0;34m.\u001b[0m\u001b[0mPdfFileReader\u001b[0m\u001b[0;34m(\u001b[0m\u001b[0mf\u001b[0m\u001b[0;34m)\u001b[0m\u001b[0;34m\u001b[0m\u001b[0;34m\u001b[0m\u001b[0m\n\u001b[0m\u001b[1;32m      5\u001b[0m     \u001b[0mnum_pages\u001b[0m \u001b[0;34m=\u001b[0m \u001b[0mpdf_reader\u001b[0m\u001b[0;34m.\u001b[0m\u001b[0mnumPages\u001b[0m\u001b[0;34m\u001b[0m\u001b[0;34m\u001b[0m\u001b[0m\n\u001b[1;32m      6\u001b[0m     \u001b[0mtext\u001b[0m \u001b[0;34m=\u001b[0m \u001b[0;34m\"\"\u001b[0m\u001b[0;34m\u001b[0m\u001b[0;34m\u001b[0m\u001b[0m\n",
            "\u001b[0;32m/usr/local/lib/python3.10/dist-packages/PyPDF2/_reader.py\u001b[0m in \u001b[0;36m__init__\u001b[0;34m(self, *args, **kwargs)\u001b[0m\n\u001b[1;32m   1972\u001b[0m \u001b[0;32mclass\u001b[0m \u001b[0mPdfFileReader\u001b[0m\u001b[0;34m(\u001b[0m\u001b[0mPdfReader\u001b[0m\u001b[0;34m)\u001b[0m\u001b[0;34m:\u001b[0m  \u001b[0;31m# pragma: no cover\u001b[0m\u001b[0;34m\u001b[0m\u001b[0;34m\u001b[0m\u001b[0m\n\u001b[1;32m   1973\u001b[0m     \u001b[0;32mdef\u001b[0m \u001b[0m__init__\u001b[0m\u001b[0;34m(\u001b[0m\u001b[0mself\u001b[0m\u001b[0;34m,\u001b[0m \u001b[0;34m*\u001b[0m\u001b[0margs\u001b[0m\u001b[0;34m:\u001b[0m \u001b[0mAny\u001b[0m\u001b[0;34m,\u001b[0m \u001b[0;34m**\u001b[0m\u001b[0mkwargs\u001b[0m\u001b[0;34m:\u001b[0m \u001b[0mAny\u001b[0m\u001b[0;34m)\u001b[0m \u001b[0;34m->\u001b[0m \u001b[0;32mNone\u001b[0m\u001b[0;34m:\u001b[0m\u001b[0;34m\u001b[0m\u001b[0;34m\u001b[0m\u001b[0m\n\u001b[0;32m-> 1974\u001b[0;31m         \u001b[0mdeprecation_with_replacement\u001b[0m\u001b[0;34m(\u001b[0m\u001b[0;34m\"PdfFileReader\"\u001b[0m\u001b[0;34m,\u001b[0m \u001b[0;34m\"PdfReader\"\u001b[0m\u001b[0;34m,\u001b[0m \u001b[0;34m\"3.0.0\"\u001b[0m\u001b[0;34m)\u001b[0m\u001b[0;34m\u001b[0m\u001b[0;34m\u001b[0m\u001b[0m\n\u001b[0m\u001b[1;32m   1975\u001b[0m         \u001b[0;32mif\u001b[0m \u001b[0;34m\"strict\"\u001b[0m \u001b[0;32mnot\u001b[0m \u001b[0;32min\u001b[0m \u001b[0mkwargs\u001b[0m \u001b[0;32mand\u001b[0m \u001b[0mlen\u001b[0m\u001b[0;34m(\u001b[0m\u001b[0margs\u001b[0m\u001b[0;34m)\u001b[0m \u001b[0;34m<\u001b[0m \u001b[0;36m2\u001b[0m\u001b[0;34m:\u001b[0m\u001b[0;34m\u001b[0m\u001b[0;34m\u001b[0m\u001b[0m\n\u001b[1;32m   1976\u001b[0m             \u001b[0mkwargs\u001b[0m\u001b[0;34m[\u001b[0m\u001b[0;34m\"strict\"\u001b[0m\u001b[0;34m]\u001b[0m \u001b[0;34m=\u001b[0m \u001b[0;32mTrue\u001b[0m  \u001b[0;31m# maintain the default\u001b[0m\u001b[0;34m\u001b[0m\u001b[0;34m\u001b[0m\u001b[0m\n",
            "\u001b[0;32m/usr/local/lib/python3.10/dist-packages/PyPDF2/_utils.py\u001b[0m in \u001b[0;36mdeprecation_with_replacement\u001b[0;34m(old_name, new_name, removed_in)\u001b[0m\n\u001b[1;32m    367\u001b[0m     \u001b[0mRaise\u001b[0m \u001b[0man\u001b[0m \u001b[0mexception\u001b[0m \u001b[0mthat\u001b[0m \u001b[0ma\u001b[0m \u001b[0mfeature\u001b[0m \u001b[0mwas\u001b[0m \u001b[0malready\u001b[0m \u001b[0mremoved\u001b[0m\u001b[0;34m,\u001b[0m \u001b[0mbut\u001b[0m \u001b[0mhas\u001b[0m \u001b[0ma\u001b[0m \u001b[0mreplacement\u001b[0m\u001b[0;34m.\u001b[0m\u001b[0;34m\u001b[0m\u001b[0;34m\u001b[0m\u001b[0m\n\u001b[1;32m    368\u001b[0m     \"\"\"\n\u001b[0;32m--> 369\u001b[0;31m     \u001b[0mdeprecation\u001b[0m\u001b[0;34m(\u001b[0m\u001b[0mDEPR_MSG_HAPPENED\u001b[0m\u001b[0;34m.\u001b[0m\u001b[0mformat\u001b[0m\u001b[0;34m(\u001b[0m\u001b[0mold_name\u001b[0m\u001b[0;34m,\u001b[0m \u001b[0mremoved_in\u001b[0m\u001b[0;34m,\u001b[0m \u001b[0mnew_name\u001b[0m\u001b[0;34m)\u001b[0m\u001b[0;34m)\u001b[0m\u001b[0;34m\u001b[0m\u001b[0;34m\u001b[0m\u001b[0m\n\u001b[0m\u001b[1;32m    370\u001b[0m \u001b[0;34m\u001b[0m\u001b[0m\n\u001b[1;32m    371\u001b[0m \u001b[0;34m\u001b[0m\u001b[0m\n",
            "\u001b[0;32m/usr/local/lib/python3.10/dist-packages/PyPDF2/_utils.py\u001b[0m in \u001b[0;36mdeprecation\u001b[0;34m(msg)\u001b[0m\n\u001b[1;32m    349\u001b[0m \u001b[0;34m\u001b[0m\u001b[0m\n\u001b[1;32m    350\u001b[0m \u001b[0;32mdef\u001b[0m \u001b[0mdeprecation\u001b[0m\u001b[0;34m(\u001b[0m\u001b[0mmsg\u001b[0m\u001b[0;34m:\u001b[0m \u001b[0mstr\u001b[0m\u001b[0;34m)\u001b[0m \u001b[0;34m->\u001b[0m \u001b[0;32mNone\u001b[0m\u001b[0;34m:\u001b[0m\u001b[0;34m\u001b[0m\u001b[0;34m\u001b[0m\u001b[0m\n\u001b[0;32m--> 351\u001b[0;31m     \u001b[0;32mraise\u001b[0m \u001b[0mDeprecationError\u001b[0m\u001b[0;34m(\u001b[0m\u001b[0mmsg\u001b[0m\u001b[0;34m)\u001b[0m\u001b[0;34m\u001b[0m\u001b[0;34m\u001b[0m\u001b[0m\n\u001b[0m\u001b[1;32m    352\u001b[0m \u001b[0;34m\u001b[0m\u001b[0m\n\u001b[1;32m    353\u001b[0m \u001b[0;34m\u001b[0m\u001b[0m\n",
            "\u001b[0;31mDeprecationError\u001b[0m: PdfFileReader is deprecated and was removed in PyPDF2 3.0.0. Use PdfReader instead."
          ]
        }
      ]
    },
    {
      "cell_type": "code",
      "source": [
        "pip install pyPDF2"
      ],
      "metadata": {
        "id": "labRTPPWU2Ur",
        "outputId": "4bcd497c-79f6-4dea-a4a6-286fca0cfbf1",
        "colab": {
          "base_uri": "https://localhost:8080/"
        }
      },
      "execution_count": null,
      "outputs": [
        {
          "output_type": "stream",
          "name": "stdout",
          "text": [
            "Collecting pyPDF2\n",
            "  Downloading pypdf2-3.0.1-py3-none-any.whl (232 kB)\n",
            "\u001b[?25l     \u001b[90m━━━━━━━━━━━━━━━━━━━━━━━━━━━━━━━━━━━━━━━━\u001b[0m \u001b[32m0.0/232.6 kB\u001b[0m \u001b[31m?\u001b[0m eta \u001b[36m-:--:--\u001b[0m\r\u001b[2K     \u001b[91m━━━━━━━━━━━━━━━\u001b[0m\u001b[91m╸\u001b[0m\u001b[90m━━━━━━━━━━━━━━━━━━━━━━━━\u001b[0m \u001b[32m92.2/232.6 kB\u001b[0m \u001b[31m2.6 MB/s\u001b[0m eta \u001b[36m0:00:01\u001b[0m\r\u001b[2K     \u001b[90m━━━━━━━━━━━━━━━━━━━━━━━━━━━━━━━━━━━━━━━\u001b[0m \u001b[32m232.6/232.6 kB\u001b[0m \u001b[31m4.2 MB/s\u001b[0m eta \u001b[36m0:00:00\u001b[0m\n",
            "\u001b[?25hInstalling collected packages: pyPDF2\n",
            "Successfully installed pyPDF2-3.0.1\n"
          ]
        }
      ]
    },
    {
      "cell_type": "code",
      "source": [
        "from PyPDF2 import PdfReader\n",
        "\n",
        "# Initialize PdfReader object and count pages\n",
        "pdf = PdfReader(\"/content/Dissertation_Template2023.pdf\")\n",
        "num_pages = len(pdf.pages)\n",
        "\n",
        "# Initialize text variable and read each page's text into it\n",
        "text = \"\"\n",
        "for i in range(num_pages):\n",
        "    text += pdf.pages[i].extract_text()\n",
        "\n",
        "# Count words in the extracted text\n",
        "words = text.split()\n",
        "num_words = len(words)\n",
        "\n",
        "print(f'Number of pages: {num_pages}')\n",
        "print(f'Number of words: {num_words}')\n"
      ],
      "metadata": {
        "id": "luOjNRe9etvg",
        "outputId": "8119b081-3ee4-43de-daeb-d64e467d9d2d",
        "colab": {
          "base_uri": "https://localhost:8080/"
        }
      },
      "execution_count": null,
      "outputs": [
        {
          "output_type": "stream",
          "name": "stdout",
          "text": [
            "Number of pages: 46\n",
            "Number of words: 11565\n"
          ]
        }
      ]
    },
    {
      "cell_type": "code",
      "source": [
        "import matplotlib.pyplot as plt\n",
        "import numpy as np\n",
        "\n",
        "# Labels for the bars\n",
        "labels = ['FDK-generated CBCT', 'Deep Learning-generated CBCT']\n",
        "\n",
        "# SSIM values for each experiment\n",
        "ssim_values = [0.5088899645673449, 0.32415023657397296]\n",
        "\n",
        "# sSNR values for each experiment\n",
        "ssnr_values = [6.977738108626598, 1.882781578931863]\n",
        "\n",
        "x = np.arange(len(labels))  # the label locations\n",
        "width = 0.35  # the width of the bars\n",
        "\n",
        "fig, ax1 = plt.subplots()\n",
        "\n",
        "# Make some plots\n",
        "color = 'tab:blue'\n",
        "ax1.set_xlabel('Experiment 1')\n",
        "ax1.set_ylabel('SSIM', color=color)\n",
        "ax1.bar(x - width/2, ssim_values, width, color=color, label='SSIM')\n",
        "ax1.tick_params(axis='y', labelcolor=color)\n",
        "\n",
        "ax2 = ax1.twinx()\n",
        "color = 'tab:red'\n",
        "ax2.set_ylabel('sSNR', color=color)\n",
        "ax2.bar(x + width/2, ssnr_values, width, color=color, label='sSNR')\n",
        "ax2.tick_params(axis='y', labelcolor=color)\n",
        "\n",
        "# Add some text for labels, title and custom x-axis tick labels, etc.\n",
        "ax1.set_xticks(x)\n",
        "ax1.set_xticklabels(labels)\n",
        "\n",
        "# Added these two lines to make the legend work\n",
        "lines, labels = ax1.get_legend_handles_labels()\n",
        "lines2, labels2 = ax2.get_legend_handles_labels()\n",
        "ax2.legend(lines + lines2, labels + labels2, loc=0)\n",
        "\n",
        "plt.show()\n"
      ],
      "metadata": {
        "colab": {
          "base_uri": "https://localhost:8080/",
          "height": 448
        },
        "id": "icuLSnPny5wV",
        "outputId": "36589ae9-63d6-4345-8c06-96baaef7f1c2"
      },
      "execution_count": null,
      "outputs": [
        {
          "output_type": "display_data",
          "data": {
            "text/plain": [
              "<Figure size 640x480 with 2 Axes>"
            ],
            "image/png": "[encoded data removed]"
          },
          "metadata": {}
        }
      ]
    }
  ]
}